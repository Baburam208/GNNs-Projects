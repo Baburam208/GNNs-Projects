{
 "cells": [
  {
   "cell_type": "code",
   "execution_count": null,
   "metadata": {
    "colab": {
     "base_uri": "https://localhost:8080/"
    },
    "id": "44vXf9P83DxG",
    "outputId": "4fd6a0b4-1e6c-4ee9-f428-05db53bc20fe"
   },
   "outputs": [
    {
     "name": "stdout",
     "output_type": "stream",
     "text": [
      "Looking in indexes: https://pypi.org/simple, https://us-python.pkg.dev/colab-wheels/public/simple/\n",
      "Collecting mediapipe\n",
      "  Downloading mediapipe-0.9.3.0-cp310-cp310-manylinux_2_17_x86_64.manylinux2014_x86_64.whl (33.9 MB)\n",
      "\u001b[2K     \u001b[90m━━━━━━━━━━━━━━━━━━━━━━━━━━━━━━━━━━━━━━━━\u001b[0m \u001b[32m33.9/33.9 MB\u001b[0m \u001b[31m25.7 MB/s\u001b[0m eta \u001b[36m0:00:00\u001b[0m\n",
      "\u001b[?25hRequirement already satisfied: flatbuffers>=2.0 in /usr/local/lib/python3.10/dist-packages (from mediapipe) (23.3.3)\n",
      "Requirement already satisfied: attrs>=19.1.0 in /usr/local/lib/python3.10/dist-packages (from mediapipe) (23.1.0)\n",
      "Requirement already satisfied: protobuf<4,>=3.11 in /usr/local/lib/python3.10/dist-packages (from mediapipe) (3.20.3)\n",
      "Requirement already satisfied: matplotlib in /usr/local/lib/python3.10/dist-packages (from mediapipe) (3.7.1)\n",
      "Requirement already satisfied: absl-py in /usr/local/lib/python3.10/dist-packages (from mediapipe) (1.4.0)\n",
      "Collecting sounddevice>=0.4.4\n",
      "  Downloading sounddevice-0.4.6-py3-none-any.whl (31 kB)\n",
      "Requirement already satisfied: numpy in /usr/local/lib/python3.10/dist-packages (from mediapipe) (1.22.4)\n",
      "Requirement already satisfied: opencv-contrib-python in /usr/local/lib/python3.10/dist-packages (from mediapipe) (4.7.0.72)\n",
      "Requirement already satisfied: CFFI>=1.0 in /usr/local/lib/python3.10/dist-packages (from sounddevice>=0.4.4->mediapipe) (1.15.1)\n",
      "Requirement already satisfied: cycler>=0.10 in /usr/local/lib/python3.10/dist-packages (from matplotlib->mediapipe) (0.11.0)\n",
      "Requirement already satisfied: contourpy>=1.0.1 in /usr/local/lib/python3.10/dist-packages (from matplotlib->mediapipe) (1.0.7)\n",
      "Requirement already satisfied: python-dateutil>=2.7 in /usr/local/lib/python3.10/dist-packages (from matplotlib->mediapipe) (2.8.2)\n",
      "Requirement already satisfied: pyparsing>=2.3.1 in /usr/local/lib/python3.10/dist-packages (from matplotlib->mediapipe) (3.0.9)\n",
      "Requirement already satisfied: fonttools>=4.22.0 in /usr/local/lib/python3.10/dist-packages (from matplotlib->mediapipe) (4.39.3)\n",
      "Requirement already satisfied: pillow>=6.2.0 in /usr/local/lib/python3.10/dist-packages (from matplotlib->mediapipe) (8.4.0)\n",
      "Requirement already satisfied: kiwisolver>=1.0.1 in /usr/local/lib/python3.10/dist-packages (from matplotlib->mediapipe) (1.4.4)\n",
      "Requirement already satisfied: packaging>=20.0 in /usr/local/lib/python3.10/dist-packages (from matplotlib->mediapipe) (23.1)\n",
      "Requirement already satisfied: pycparser in /usr/local/lib/python3.10/dist-packages (from CFFI>=1.0->sounddevice>=0.4.4->mediapipe) (2.21)\n",
      "Requirement already satisfied: six>=1.5 in /usr/local/lib/python3.10/dist-packages (from python-dateutil>=2.7->matplotlib->mediapipe) (1.16.0)\n",
      "Installing collected packages: sounddevice, mediapipe\n",
      "Successfully installed mediapipe-0.9.3.0 sounddevice-0.4.6\n"
     ]
    }
   ],
   "source": [
    "!pip install mediapipe"
   ]
  },
  {
   "cell_type": "code",
   "execution_count": null,
   "metadata": {
    "id": "aegvbxGE2GEK"
   },
   "outputs": [],
   "source": [
    "path = \"/content/drive/MyDrive/dummy images/person.png\"\n",
    "path2 = \"/content/drive/MyDrive/dummy images/child.png\"\n",
    "# /content/drive/MyDrive/dummy images/child.png"
   ]
  },
  {
   "cell_type": "code",
   "execution_count": null,
   "metadata": {
    "id": "qj7SQSRG2C5U"
   },
   "outputs": [],
   "source": [
    "import cv2\n",
    "import math\n",
    "import numpy as np\n",
    "import csv\n",
    "import mediapipe as mp\n",
    "# mp_drawing = mp.solutions.drawing_utils\n",
    "# mp_drawing_styles = mp.solutions.drawing_styles\n",
    "mp_face_mesh = mp.solutions.face_mesh\n",
    "\n",
    "# For static images:\n",
    "IMAGE_FILES = [path, path2]\n",
    "# drawing_spec = mp_drawing.DrawingSpec(thickness=1, circle_radius=1)\n",
    "with mp_face_mesh.FaceMesh(\n",
    "    static_image_mode=True,\n",
    "    max_num_faces=1,\n",
    "    refine_landmarks=False,\n",
    "    min_detection_confidence=0.5) as face_mesh:\n",
    "  for idx, file in enumerate(IMAGE_FILES):\n",
    "    image = cv2.imread(file)\n",
    "    # Convert the BGR image to RGB before processing.\n",
    "    results = face_mesh.process(cv2.cvtColor(image, cv2.COLOR_BGR2RGB))\n",
    "\n",
    "    # Print and draw face mesh landmarks on the image.\n",
    "    if not results.multi_face_landmarks:\n",
    "      continue\n",
    "    # annotated_image = image.copy()\n",
    "    for face_landmarks in results.multi_face_landmarks:\n",
    "      for i in range(0, 468):\n",
    "        pt1 = face_landmarks.landmark[i]\n",
    "        x = pt1.x\n",
    "        y = pt1.y\n",
    "        z = pt1.z\n",
    "        data = [x, y, z]\n",
    "        with open(f'person_{idx}.csv', 'a') as f:\n",
    "          writer = csv.writer(f)\n",
    "          writer.writerow(data)\n"
   ]
  },
  {
   "cell_type": "code",
   "execution_count": null,
   "metadata": {
    "id": "83Jd5ukILXtL"
   },
   "outputs": [],
   "source": [
    "import cv2\n",
    "import math\n",
    "import numpy as np\n",
    "import csv\n",
    "import mediapipe as mp\n",
    "# mp_drawing = mp.solutions.drawing_utils\n",
    "# mp_drawing_styles = mp.solutions.drawing_styles\n",
    "mp_face_mesh = mp.solutions.face_mesh"
   ]
  },
  {
   "cell_type": "code",
   "execution_count": null,
   "metadata": {
    "id": "uD09caZAK4n0"
   },
   "outputs": [],
   "source": [
    "import os"
   ]
  },
  {
   "cell_type": "code",
   "execution_count": null,
   "metadata": {
    "id": "uDRmWgl3H6ok"
   },
   "outputs": [],
   "source": [
    "dataset_path = \"/content/drive/MyDrive/datasets/emotion\""
   ]
  },
  {
   "cell_type": "code",
   "execution_count": null,
   "metadata": {
    "colab": {
     "base_uri": "https://localhost:8080/"
    },
    "id": "fEqJmAk9IqnH",
    "outputId": "53642271-e95e-4d44-823b-12f5b8baa400"
   },
   "outputs": [
    {
     "name": "stdout",
     "output_type": "stream",
     "text": [
      "['happy', 'neutral', 'angry', 'sad']\n"
     ]
    }
   ],
   "source": [
    "classes = os.listdir(dataset_path)\n",
    "print(classes) "
   ]
  },
  {
   "cell_type": "code",
   "execution_count": null,
   "metadata": {
    "id": "UcNNpCWQ2u81"
   },
   "outputs": [],
   "source": [
    "def get_landmarks(IMAGE_FILES, class_i):\n",
    "  with mp_face_mesh.FaceMesh(\n",
    "    static_image_mode=True,\n",
    "    max_num_faces=1,\n",
    "    refine_landmarks=False,\n",
    "    min_detection_confidence=0.5) as face_mesh:\n",
    "    for idx, file in enumerate(IMAGE_FILES):\n",
    "      image = cv2.imread(file)\n",
    "      # Convert the BGR image to RGB before processing.\n",
    "      results = face_mesh.process(cv2.cvtColor(image, cv2.COLOR_BGR2RGB))\n",
    "\n",
    "      # Print and draw face mesh landmarks on the image.\n",
    "      if not results.multi_face_landmarks:\n",
    "        continue\n",
    "      # annotated_image = image.copy()\n",
    "      for face_landmarks in results.multi_face_landmarks:\n",
    "        for i in range(0, 468):\n",
    "          pt1 = face_landmarks.landmark[i]\n",
    "          x = pt1.x\n",
    "          y = pt1.y\n",
    "          z = pt1.z\n",
    "\n",
    "          \n",
    "          data = [x, y, z]\n",
    "          with open(f'/content/drive/MyDrive/datasets/landmarks/person_{class_i}{idx}.csv', 'a') as f:\n",
    "            writer = csv.writer(f)\n",
    "            writer.writerow(data)\n",
    "          \n",
    "      label = [classes.index(class_i)]\n",
    "      with open(f\"/content/drive/MyDrive/datasets/landmarks/person_label_{class_i}{idx}.csv\", \"w\") as fl:\n",
    "        writer = csv.writer(fl)\n",
    "        writer.writerow(label)"
   ]
  },
  {
   "cell_type": "code",
   "execution_count": null,
   "metadata": {
    "id": "hEeIo-AOLFr_"
   },
   "outputs": [],
   "source": [
    "from tqdm import tqdm"
   ]
  },
  {
   "cell_type": "code",
   "execution_count": null,
   "metadata": {
    "colab": {
     "base_uri": "https://localhost:8080/"
    },
    "id": "u0FNLrGhJgbn",
    "outputId": "bf8ec5bc-b6d1-4eaa-8e05-c48478223cb1"
   },
   "outputs": [
    {
     "name": "stderr",
     "output_type": "stream",
     "text": [
      "100%|██████████| 4/4 [01:53<00:00, 28.37s/it]\n"
     ]
    }
   ],
   "source": [
    "for class_i in tqdm(os.listdir(dataset_path)):\n",
    "  # print(class_i)\n",
    "  class_i_path = os.path.join(dataset_path, class_i)\n",
    "  class_i_files = os.listdir(class_i_path) \n",
    "  files = []\n",
    "  for file in class_i_files:\n",
    "    files.append(os.path.join(dataset_path, class_i, file))\n",
    "\n",
    "  get_landmarks(files, class_i)\n",
    "  # print(class_i_files)\n",
    "  # break\n"
   ]
  },
  {
   "cell_type": "code",
   "execution_count": null,
   "metadata": {
    "id": "HXN67rRiJk1u"
   },
   "outputs": [],
   "source": [
    "/content/drive/MyDrive/datasets/landmarks"
   ]
  }
 ],
 "metadata": {
  "colab": {
   "provenance": []
  },
  "kernelspec": {
   "display_name": "Python 3 (ipykernel)",
   "language": "python",
   "name": "python3"
  },
  "language_info": {
   "codemirror_mode": {
    "name": "ipython",
    "version": 3
   },
   "file_extension": ".py",
   "mimetype": "text/x-python",
   "name": "python",
   "nbconvert_exporter": "python",
   "pygments_lexer": "ipython3",
   "version": "3.10.0"
  }
 },
 "nbformat": 4,
 "nbformat_minor": 4
}
